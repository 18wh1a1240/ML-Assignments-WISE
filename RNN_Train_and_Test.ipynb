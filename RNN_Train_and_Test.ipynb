{
  "nbformat": 4,
  "nbformat_minor": 0,
  "metadata": {
    "colab": {
      "name": "RNN_Train and Test.ipynb",
      "provenance": [],
      "collapsed_sections": [],
      "toc_visible": true,
      "mount_file_id": "1H7rXLAsQS2j6M_bd6jvfteURwB9HNtfb",
      "authorship_tag": "ABX9TyM57qBmVUfhLkhytB3HjPJI",
      "include_colab_link": true
    },
    "kernelspec": {
      "name": "python3",
      "display_name": "Python 3"
    },
    "language_info": {
      "name": "python"
    }
  },
  "cells": [
    {
      "cell_type": "markdown",
      "metadata": {
        "id": "view-in-github",
        "colab_type": "text"
      },
      "source": [
        "<a href=\"https://colab.research.google.com/github/18wh1a1240/ML-Assignments-WISE/blob/main/RNN_Train_and_Test.ipynb\" target=\"_parent\"><img src=\"https://colab.research.google.com/assets/colab-badge.svg\" alt=\"Open In Colab\"/></a>"
      ]
    },
    {
      "cell_type": "code",
      "metadata": {
        "id": "pwKdPiiDRQVZ"
      },
      "source": [
        "import os\n",
        "import numpy as np\n",
        "import pandas as pd\n",
        "import matplotlib.pyplot as plt\n",
        "import seaborn as sbn\n",
        "import warnings\n",
        "warnings.filterwarnings('ignore', category = RuntimeWarning)\n",
        "warnings.filterwarnings('ignore', category = UserWarning)\n",
        "\n",
        "# Importing Normalisation library\n",
        "from sklearn.preprocessing import MinMaxScaler\n",
        "\n",
        "# Importing Keras libraries and Packages\n",
        "from tensorflow.keras.models import Sequential\n",
        "from tensorflow.keras.layers import Dense\n",
        "from tensorflow.keras.layers import LSTM\n",
        "from tensorflow.keras.layers import Dropout\n",
        "\n",
        "# Importing Metrics libraries\n",
        "import math\n",
        "from sklearn.metrics import mean_squared_error\n",
        "\n",
        "# Importing TPU Setup Libraries\n",
        "# tf.enable_eager_execution()\n",
        "# from keras.backend import clear_session"
      ],
      "execution_count": 8,
      "outputs": []
    },
    {
      "cell_type": "code",
      "metadata": {
        "id": "a-IGeg_lRai8"
      },
      "source": [
        "# print(tf.__version__)"
      ],
      "execution_count": null,
      "outputs": []
    },
    {
      "cell_type": "markdown",
      "metadata": {
        "id": "RIAL0ReTRgMC"
      },
      "source": [
        "###TPU Setup"
      ]
    },
    {
      "cell_type": "code",
      "metadata": {
        "colab": {
          "base_uri": "https://localhost:8080/"
        },
        "id": "0WahQADnRh9I",
        "outputId": "e671ba1b-a755-4bc4-f73a-474335a60535"
      },
      "source": [
        "from google.colab import drive\n",
        "drive.mount('/content/drive')"
      ],
      "execution_count": 9,
      "outputs": [
        {
          "output_type": "stream",
          "text": [
            "Drive already mounted at /content/drive; to attempt to forcibly remount, call drive.mount(\"/content/drive\", force_remount=True).\n"
          ],
          "name": "stdout"
        }
      ]
    },
    {
      "cell_type": "code",
      "metadata": {
        "id": "wRN5PI7HSQU2"
      },
      "source": [
        "# TPU_WORKER = 'grpc://' + os.environ['COLAB_TPU_ADDR']"
      ],
      "execution_count": null,
      "outputs": []
    },
    {
      "cell_type": "code",
      "metadata": {
        "id": "bNBFaxNBSSg8"
      },
      "source": [
        "# clear_session()\n",
        "# tf.config.experimental_connect_to_host(TPU_WORKER)\n",
        "# resolver = tf.distribute.cluster_resolver.TPUClusterResolver(TPU_WORKER)\n",
        "# tf.tpu.experimental.initialize_tpu_system(resolver)\n",
        "# strategy = tf.distribute.experimental.TPUStrategy(resolver)"
      ],
      "execution_count": null,
      "outputs": []
    },
    {
      "cell_type": "code",
      "metadata": {
        "id": "s4GlRlM0SWQX"
      },
      "source": [
        "data_train = pd.read_csv('/content/drive/MyDrive/DataSetsML/Google_Stock_Price_Train.csv')"
      ],
      "execution_count": 10,
      "outputs": []
    },
    {
      "cell_type": "code",
      "metadata": {
        "colab": {
          "base_uri": "https://localhost:8080/",
          "height": 204
        },
        "id": "5e0jFbewUNyj",
        "outputId": "9a877e03-e51b-41fc-a3a6-3d46188b4482"
      },
      "source": [
        "data_train.head()"
      ],
      "execution_count": 11,
      "outputs": [
        {
          "output_type": "execute_result",
          "data": {
            "text/html": [
              "<div>\n",
              "<style scoped>\n",
              "    .dataframe tbody tr th:only-of-type {\n",
              "        vertical-align: middle;\n",
              "    }\n",
              "\n",
              "    .dataframe tbody tr th {\n",
              "        vertical-align: top;\n",
              "    }\n",
              "\n",
              "    .dataframe thead th {\n",
              "        text-align: right;\n",
              "    }\n",
              "</style>\n",
              "<table border=\"1\" class=\"dataframe\">\n",
              "  <thead>\n",
              "    <tr style=\"text-align: right;\">\n",
              "      <th></th>\n",
              "      <th>Date</th>\n",
              "      <th>Open</th>\n",
              "      <th>High</th>\n",
              "      <th>Low</th>\n",
              "      <th>Close</th>\n",
              "      <th>Volume</th>\n",
              "    </tr>\n",
              "  </thead>\n",
              "  <tbody>\n",
              "    <tr>\n",
              "      <th>0</th>\n",
              "      <td>1/3/2012</td>\n",
              "      <td>325.25</td>\n",
              "      <td>332.83</td>\n",
              "      <td>324.97</td>\n",
              "      <td>663.59</td>\n",
              "      <td>7,380,500</td>\n",
              "    </tr>\n",
              "    <tr>\n",
              "      <th>1</th>\n",
              "      <td>1/4/2012</td>\n",
              "      <td>331.27</td>\n",
              "      <td>333.87</td>\n",
              "      <td>329.08</td>\n",
              "      <td>666.45</td>\n",
              "      <td>5,749,400</td>\n",
              "    </tr>\n",
              "    <tr>\n",
              "      <th>2</th>\n",
              "      <td>1/5/2012</td>\n",
              "      <td>329.83</td>\n",
              "      <td>330.75</td>\n",
              "      <td>326.89</td>\n",
              "      <td>657.21</td>\n",
              "      <td>6,590,300</td>\n",
              "    </tr>\n",
              "    <tr>\n",
              "      <th>3</th>\n",
              "      <td>1/6/2012</td>\n",
              "      <td>328.34</td>\n",
              "      <td>328.77</td>\n",
              "      <td>323.68</td>\n",
              "      <td>648.24</td>\n",
              "      <td>5,405,900</td>\n",
              "    </tr>\n",
              "    <tr>\n",
              "      <th>4</th>\n",
              "      <td>1/9/2012</td>\n",
              "      <td>322.04</td>\n",
              "      <td>322.29</td>\n",
              "      <td>309.46</td>\n",
              "      <td>620.76</td>\n",
              "      <td>11,688,800</td>\n",
              "    </tr>\n",
              "  </tbody>\n",
              "</table>\n",
              "</div>"
            ],
            "text/plain": [
              "       Date    Open    High     Low   Close      Volume\n",
              "0  1/3/2012  325.25  332.83  324.97  663.59   7,380,500\n",
              "1  1/4/2012  331.27  333.87  329.08  666.45   5,749,400\n",
              "2  1/5/2012  329.83  330.75  326.89  657.21   6,590,300\n",
              "3  1/6/2012  328.34  328.77  323.68  648.24   5,405,900\n",
              "4  1/9/2012  322.04  322.29  309.46  620.76  11,688,800"
            ]
          },
          "metadata": {
            "tags": []
          },
          "execution_count": 11
        }
      ]
    },
    {
      "cell_type": "code",
      "metadata": {
        "colab": {
          "base_uri": "https://localhost:8080/"
        },
        "id": "tgw8AgVBUXp1",
        "outputId": "cd95bee0-b1fa-47d4-a62d-04586d11769e"
      },
      "source": [
        "training_set = data_train.iloc[:, 1:2].values\n",
        "training_set"
      ],
      "execution_count": 12,
      "outputs": [
        {
          "output_type": "execute_result",
          "data": {
            "text/plain": [
              "array([[325.25],\n",
              "       [331.27],\n",
              "       [329.83],\n",
              "       ...,\n",
              "       [793.7 ],\n",
              "       [783.33],\n",
              "       [782.75]])"
            ]
          },
          "metadata": {
            "tags": []
          },
          "execution_count": 12
        }
      ]
    },
    {
      "cell_type": "code",
      "metadata": {
        "id": "ic2P2TF9Udsi"
      },
      "source": [
        "sc = MinMaxScaler(feature_range= (0,1))"
      ],
      "execution_count": 13,
      "outputs": []
    },
    {
      "cell_type": "code",
      "metadata": {
        "colab": {
          "base_uri": "https://localhost:8080/"
        },
        "id": "vEBN4G1CUhA6",
        "outputId": "36ff31c6-e504-4630-d3c0-92e400966732"
      },
      "source": [
        "scaled_training_set = sc.fit_transform(training_set)\n",
        "scaled_training_set"
      ],
      "execution_count": 14,
      "outputs": [
        {
          "output_type": "execute_result",
          "data": {
            "text/plain": [
              "array([[0.08581368],\n",
              "       [0.09701243],\n",
              "       [0.09433366],\n",
              "       ...,\n",
              "       [0.95725128],\n",
              "       [0.93796041],\n",
              "       [0.93688146]])"
            ]
          },
          "metadata": {
            "tags": []
          },
          "execution_count": 14
        }
      ]
    },
    {
      "cell_type": "markdown",
      "metadata": {
        "id": "CBgTuMhWUm2y"
      },
      "source": [
        "###Creating Datastructure with 60 timesteps and 1 output"
      ]
    },
    {
      "cell_type": "code",
      "metadata": {
        "id": "0lFHEcHKUoIW"
      },
      "source": [
        "## Using Tensorflow \n",
        "\n",
        "# dataset = tf.data.Dataset.from_tensor_slices(scaled_training_set)\n",
        "# dataset = dataset.window(61, shift=1,drop_remainder=True)\n",
        "# dataset = dataset.flat_map(lambda window: window.batch(61))\n",
        "# dataset = dataset.map(lambda window: (window[:-1], window[-1:]))\n",
        "# x_train = y_train = []\n",
        "# for x, y in dataset:\n",
        "#   x_train.append(x.numpy())\n",
        "#   y_train.append(y.numpy())"
      ],
      "execution_count": null,
      "outputs": []
    },
    {
      "cell_type": "code",
      "metadata": {
        "id": "XqaQHCq6Up6A"
      },
      "source": [
        "# Using Pandas and Slicing\n",
        "\n",
        "x_train, y_train = zip(*[(scaled_training_set[i-60:i, 0]\n",
        "                          ,scaled_training_set[i, 0])\n",
        "                          for i in range(60, 1258)])"
      ],
      "execution_count": 15,
      "outputs": []
    },
    {
      "cell_type": "code",
      "metadata": {
        "id": "UKXgDdtjUuc-"
      },
      "source": [
        "x_train, y_train = np.array(x_train), np.array(y_train)"
      ],
      "execution_count": 16,
      "outputs": []
    },
    {
      "cell_type": "code",
      "metadata": {
        "colab": {
          "base_uri": "https://localhost:8080/"
        },
        "id": "1JARSAMMUwc7",
        "outputId": "3b98bf09-1900-47c3-8ab3-a05ac47a70ea"
      },
      "source": [
        "x_train.shape[1]"
      ],
      "execution_count": 17,
      "outputs": [
        {
          "output_type": "execute_result",
          "data": {
            "text/plain": [
              "60"
            ]
          },
          "metadata": {
            "tags": []
          },
          "execution_count": 17
        }
      ]
    },
    {
      "cell_type": "code",
      "metadata": {
        "id": "qKIARBnAU1h2"
      },
      "source": [
        "#Reshaping\n",
        "x_train = np.reshape(x_train, (x_train.shape[0], x_train.shape[1], 1))"
      ],
      "execution_count": 18,
      "outputs": []
    },
    {
      "cell_type": "code",
      "metadata": {
        "id": "tXAEYqnIU9VL"
      },
      "source": [
        "#setting model parameters\n",
        "\n",
        "INPUT_SHAPE = (x_train.shape[1], 1)\n",
        "BATCH_SIZE = 32"
      ],
      "execution_count": 19,
      "outputs": []
    },
    {
      "cell_type": "markdown",
      "metadata": {
        "id": "XiLCN7WCVJmy"
      },
      "source": [
        "###Model Creation"
      ]
    },
    {
      "cell_type": "code",
      "metadata": {
        "id": "l_tw27riVL6B"
      },
      "source": [
        "# Step 1 - Initialising the RNN\n",
        "rnn_regressor = Sequential()"
      ],
      "execution_count": 20,
      "outputs": []
    },
    {
      "cell_type": "code",
      "metadata": {
        "id": "D1v0XuXzVOcR"
      },
      "source": [
        "# Step 2 - First LSTM and Droput Layer\n",
        "rnn_regressor.add(LSTM(units = 50, return_sequences = True, input_shape = INPUT_SHAPE))\n",
        "rnn_regressor.add(Dropout(0.2))"
      ],
      "execution_count": 21,
      "outputs": []
    },
    {
      "cell_type": "code",
      "metadata": {
        "id": "AN8K5dWoVR5h"
      },
      "source": [
        "# Step 3 - Additional LSTM and Dropout Layers\n",
        "rnn_regressor.add(LSTM(units = 50, return_sequences = True))\n",
        "rnn_regressor.add(Dropout(0.2))\n",
        "\n",
        "rnn_regressor.add(LSTM(units = 75, return_sequences = True))\n",
        "rnn_regressor.add(Dropout(0.2))\n",
        "\n",
        "rnn_regressor.add(LSTM(units = 100, return_sequences = True))\n",
        "rnn_regressor.add(Dropout(0.2))\n",
        "\n",
        "rnn_regressor.add(LSTM(units = 100))\n",
        "rnn_regressor.add(Dropout(0.2))"
      ],
      "execution_count": 22,
      "outputs": []
    },
    {
      "cell_type": "code",
      "metadata": {
        "id": "Aqo6hme8VV8N"
      },
      "source": [
        "# Step 4 - Full Connection\n",
        "rnn_regressor.add(Dense(units = 1))"
      ],
      "execution_count": 23,
      "outputs": []
    },
    {
      "cell_type": "code",
      "metadata": {
        "id": "KbwDsIoZVagx"
      },
      "source": [
        "# Compiling the RNN\n",
        "rnn_regressor.compile(optimizer = 'adam', loss = 'mean_squared_error')"
      ],
      "execution_count": 24,
      "outputs": []
    },
    {
      "cell_type": "code",
      "metadata": {
        "colab": {
          "base_uri": "https://localhost:8080/"
        },
        "id": "Y0bWc03ZVcqB",
        "outputId": "e9bf3670-724f-42cb-c187-4a1708f517d0"
      },
      "source": [
        "# Summary of RNN model\n",
        "rnn_regressor.summary()"
      ],
      "execution_count": 25,
      "outputs": [
        {
          "output_type": "stream",
          "text": [
            "Model: \"sequential\"\n",
            "_________________________________________________________________\n",
            "Layer (type)                 Output Shape              Param #   \n",
            "=================================================================\n",
            "lstm (LSTM)                  (None, 60, 50)            10400     \n",
            "_________________________________________________________________\n",
            "dropout (Dropout)            (None, 60, 50)            0         \n",
            "_________________________________________________________________\n",
            "lstm_1 (LSTM)                (None, 60, 50)            20200     \n",
            "_________________________________________________________________\n",
            "dropout_1 (Dropout)          (None, 60, 50)            0         \n",
            "_________________________________________________________________\n",
            "lstm_2 (LSTM)                (None, 60, 75)            37800     \n",
            "_________________________________________________________________\n",
            "dropout_2 (Dropout)          (None, 60, 75)            0         \n",
            "_________________________________________________________________\n",
            "lstm_3 (LSTM)                (None, 60, 100)           70400     \n",
            "_________________________________________________________________\n",
            "dropout_3 (Dropout)          (None, 60, 100)           0         \n",
            "_________________________________________________________________\n",
            "lstm_4 (LSTM)                (None, 100)               80400     \n",
            "_________________________________________________________________\n",
            "dropout_4 (Dropout)          (None, 100)               0         \n",
            "_________________________________________________________________\n",
            "dense (Dense)                (None, 1)                 101       \n",
            "=================================================================\n",
            "Total params: 219,301\n",
            "Trainable params: 219,301\n",
            "Non-trainable params: 0\n",
            "_________________________________________________________________\n"
          ],
          "name": "stdout"
        }
      ]
    },
    {
      "cell_type": "markdown",
      "metadata": {
        "id": "hM3wK6LNVgX8"
      },
      "source": [
        "###Train the RNN model"
      ]
    },
    {
      "cell_type": "code",
      "metadata": {
        "colab": {
          "base_uri": "https://localhost:8080/"
        },
        "id": "r7ORqwoeVePp",
        "outputId": "229fa821-72e2-488c-e073-9bc82b0e312e"
      },
      "source": [
        "EPOCHS = 100\n",
        "history = rnn_regressor.fit(\n",
        "    x = x_train,\n",
        "    y = y_train,\n",
        "    epochs = EPOCHS,\n",
        "    batch_size = BATCH_SIZE\n",
        ")"
      ],
      "execution_count": 26,
      "outputs": [
        {
          "output_type": "stream",
          "text": [
            "Epoch 1/100\n",
            "38/38 [==============================] - 14s 167ms/step - loss: 0.0894\n",
            "Epoch 2/100\n",
            "38/38 [==============================] - 7s 171ms/step - loss: 0.0065\n",
            "Epoch 3/100\n",
            "38/38 [==============================] - 7s 175ms/step - loss: 0.0054\n",
            "Epoch 4/100\n",
            "38/38 [==============================] - 7s 173ms/step - loss: 0.0046\n",
            "Epoch 5/100\n",
            "38/38 [==============================] - 7s 175ms/step - loss: 0.0046\n",
            "Epoch 6/100\n",
            "38/38 [==============================] - 7s 176ms/step - loss: 0.0039\n",
            "Epoch 7/100\n",
            "38/38 [==============================] - 7s 176ms/step - loss: 0.0050\n",
            "Epoch 8/100\n",
            "38/38 [==============================] - 7s 175ms/step - loss: 0.0039\n",
            "Epoch 9/100\n",
            "38/38 [==============================] - 7s 176ms/step - loss: 0.0035\n",
            "Epoch 10/100\n",
            "38/38 [==============================] - 7s 176ms/step - loss: 0.0037\n",
            "Epoch 11/100\n",
            "38/38 [==============================] - 7s 176ms/step - loss: 0.0044\n",
            "Epoch 12/100\n",
            "38/38 [==============================] - 7s 176ms/step - loss: 0.0043\n",
            "Epoch 13/100\n",
            "38/38 [==============================] - 7s 175ms/step - loss: 0.0037\n",
            "Epoch 14/100\n",
            "38/38 [==============================] - 7s 176ms/step - loss: 0.0034\n",
            "Epoch 15/100\n",
            "38/38 [==============================] - 7s 176ms/step - loss: 0.0033\n",
            "Epoch 16/100\n",
            "38/38 [==============================] - 7s 175ms/step - loss: 0.0033\n",
            "Epoch 17/100\n",
            "38/38 [==============================] - 7s 177ms/step - loss: 0.0028\n",
            "Epoch 18/100\n",
            "38/38 [==============================] - 7s 177ms/step - loss: 0.0027\n",
            "Epoch 19/100\n",
            "38/38 [==============================] - 7s 177ms/step - loss: 0.0030\n",
            "Epoch 20/100\n",
            "38/38 [==============================] - 7s 176ms/step - loss: 0.0028\n",
            "Epoch 21/100\n",
            "38/38 [==============================] - 7s 176ms/step - loss: 0.0029\n",
            "Epoch 22/100\n",
            "38/38 [==============================] - 7s 176ms/step - loss: 0.0026\n",
            "Epoch 23/100\n",
            "38/38 [==============================] - 7s 175ms/step - loss: 0.0039\n",
            "Epoch 24/100\n",
            "38/38 [==============================] - 7s 177ms/step - loss: 0.0032\n",
            "Epoch 25/100\n",
            "38/38 [==============================] - 7s 177ms/step - loss: 0.0030\n",
            "Epoch 26/100\n",
            "38/38 [==============================] - 7s 176ms/step - loss: 0.0025\n",
            "Epoch 27/100\n",
            "38/38 [==============================] - 7s 175ms/step - loss: 0.0026\n",
            "Epoch 28/100\n",
            "38/38 [==============================] - 7s 176ms/step - loss: 0.0026\n",
            "Epoch 29/100\n",
            "38/38 [==============================] - 7s 175ms/step - loss: 0.0028\n",
            "Epoch 30/100\n",
            "38/38 [==============================] - 7s 176ms/step - loss: 0.0026\n",
            "Epoch 31/100\n",
            "38/38 [==============================] - 7s 177ms/step - loss: 0.0024\n",
            "Epoch 32/100\n",
            "38/38 [==============================] - 7s 176ms/step - loss: 0.0026\n",
            "Epoch 33/100\n",
            "38/38 [==============================] - 7s 175ms/step - loss: 0.0024\n",
            "Epoch 34/100\n",
            "38/38 [==============================] - 7s 176ms/step - loss: 0.0022\n",
            "Epoch 35/100\n",
            "38/38 [==============================] - 7s 177ms/step - loss: 0.0029\n",
            "Epoch 36/100\n",
            "38/38 [==============================] - 7s 177ms/step - loss: 0.0041\n",
            "Epoch 37/100\n",
            "38/38 [==============================] - 7s 177ms/step - loss: 0.0024\n",
            "Epoch 38/100\n",
            "38/38 [==============================] - 7s 177ms/step - loss: 0.0027\n",
            "Epoch 39/100\n",
            "38/38 [==============================] - 7s 176ms/step - loss: 0.0025\n",
            "Epoch 40/100\n",
            "38/38 [==============================] - 7s 176ms/step - loss: 0.0021\n",
            "Epoch 41/100\n",
            "38/38 [==============================] - 7s 174ms/step - loss: 0.0019\n",
            "Epoch 42/100\n",
            "38/38 [==============================] - 7s 175ms/step - loss: 0.0022\n",
            "Epoch 43/100\n",
            "38/38 [==============================] - 7s 176ms/step - loss: 0.0022\n",
            "Epoch 44/100\n",
            "38/38 [==============================] - 7s 176ms/step - loss: 0.0020\n",
            "Epoch 45/100\n",
            "38/38 [==============================] - 7s 176ms/step - loss: 0.0024\n",
            "Epoch 46/100\n",
            "38/38 [==============================] - 7s 176ms/step - loss: 0.0021\n",
            "Epoch 47/100\n",
            "38/38 [==============================] - 7s 177ms/step - loss: 0.0019\n",
            "Epoch 48/100\n",
            "38/38 [==============================] - 7s 176ms/step - loss: 0.0019\n",
            "Epoch 49/100\n",
            "38/38 [==============================] - 7s 175ms/step - loss: 0.0022\n",
            "Epoch 50/100\n",
            "38/38 [==============================] - 7s 176ms/step - loss: 0.0020\n",
            "Epoch 51/100\n",
            "38/38 [==============================] - 7s 175ms/step - loss: 0.0021\n",
            "Epoch 52/100\n",
            "38/38 [==============================] - 7s 174ms/step - loss: 0.0021\n",
            "Epoch 53/100\n",
            "38/38 [==============================] - 7s 177ms/step - loss: 0.0018\n",
            "Epoch 54/100\n",
            "38/38 [==============================] - 7s 177ms/step - loss: 0.0021\n",
            "Epoch 55/100\n",
            "38/38 [==============================] - 7s 177ms/step - loss: 0.0017\n",
            "Epoch 56/100\n",
            "38/38 [==============================] - 7s 177ms/step - loss: 0.0021\n",
            "Epoch 57/100\n",
            "38/38 [==============================] - 7s 175ms/step - loss: 0.0019\n",
            "Epoch 58/100\n",
            "38/38 [==============================] - 7s 175ms/step - loss: 0.0019\n",
            "Epoch 59/100\n",
            "38/38 [==============================] - 7s 177ms/step - loss: 0.0019\n",
            "Epoch 60/100\n",
            "38/38 [==============================] - 7s 176ms/step - loss: 0.0021\n",
            "Epoch 61/100\n",
            "38/38 [==============================] - 7s 177ms/step - loss: 0.0019\n",
            "Epoch 62/100\n",
            "38/38 [==============================] - 7s 177ms/step - loss: 0.0017\n",
            "Epoch 63/100\n",
            "38/38 [==============================] - 7s 177ms/step - loss: 0.0018\n",
            "Epoch 64/100\n",
            "38/38 [==============================] - 7s 177ms/step - loss: 0.0019\n",
            "Epoch 65/100\n",
            "38/38 [==============================] - 7s 178ms/step - loss: 0.0019\n",
            "Epoch 66/100\n",
            "38/38 [==============================] - 7s 176ms/step - loss: 0.0017\n",
            "Epoch 67/100\n",
            "38/38 [==============================] - 7s 175ms/step - loss: 0.0018\n",
            "Epoch 68/100\n",
            "38/38 [==============================] - 7s 175ms/step - loss: 0.0018\n",
            "Epoch 69/100\n",
            "38/38 [==============================] - 7s 176ms/step - loss: 0.0016\n",
            "Epoch 70/100\n",
            "38/38 [==============================] - 7s 177ms/step - loss: 0.0017\n",
            "Epoch 71/100\n",
            "38/38 [==============================] - 7s 178ms/step - loss: 0.0017\n",
            "Epoch 72/100\n",
            "38/38 [==============================] - 7s 177ms/step - loss: 0.0016\n",
            "Epoch 73/100\n",
            "38/38 [==============================] - 7s 177ms/step - loss: 0.0017\n",
            "Epoch 74/100\n",
            "38/38 [==============================] - 7s 176ms/step - loss: 0.0017\n",
            "Epoch 75/100\n",
            "38/38 [==============================] - 7s 176ms/step - loss: 0.0018\n",
            "Epoch 76/100\n",
            "38/38 [==============================] - 7s 176ms/step - loss: 0.0021\n",
            "Epoch 77/100\n",
            "38/38 [==============================] - 7s 176ms/step - loss: 0.0016\n",
            "Epoch 78/100\n",
            "38/38 [==============================] - 7s 178ms/step - loss: 0.0016\n",
            "Epoch 79/100\n",
            "38/38 [==============================] - 7s 176ms/step - loss: 0.0015\n",
            "Epoch 80/100\n",
            "38/38 [==============================] - 7s 177ms/step - loss: 0.0018\n",
            "Epoch 81/100\n",
            "38/38 [==============================] - 7s 176ms/step - loss: 0.0014\n",
            "Epoch 82/100\n",
            "38/38 [==============================] - 7s 174ms/step - loss: 0.0017\n",
            "Epoch 83/100\n",
            "38/38 [==============================] - 7s 178ms/step - loss: 0.0013\n",
            "Epoch 84/100\n",
            "38/38 [==============================] - 7s 177ms/step - loss: 0.0014\n",
            "Epoch 85/100\n",
            "38/38 [==============================] - 7s 176ms/step - loss: 0.0014\n",
            "Epoch 86/100\n",
            "38/38 [==============================] - 7s 177ms/step - loss: 0.0014\n",
            "Epoch 87/100\n",
            "38/38 [==============================] - 7s 183ms/step - loss: 0.0013\n",
            "Epoch 88/100\n",
            "38/38 [==============================] - 7s 182ms/step - loss: 0.0015\n",
            "Epoch 89/100\n",
            "38/38 [==============================] - 7s 183ms/step - loss: 0.0015\n",
            "Epoch 90/100\n",
            "38/38 [==============================] - 7s 183ms/step - loss: 0.0015\n",
            "Epoch 91/100\n",
            "38/38 [==============================] - 7s 181ms/step - loss: 0.0016\n",
            "Epoch 92/100\n",
            "38/38 [==============================] - 7s 181ms/step - loss: 0.0017\n",
            "Epoch 93/100\n",
            "38/38 [==============================] - 7s 180ms/step - loss: 0.0018\n",
            "Epoch 94/100\n",
            "38/38 [==============================] - 7s 182ms/step - loss: 0.0015\n",
            "Epoch 95/100\n",
            "38/38 [==============================] - 7s 182ms/step - loss: 0.0012\n",
            "Epoch 96/100\n",
            "38/38 [==============================] - 7s 182ms/step - loss: 0.0013\n",
            "Epoch 97/100\n",
            "38/38 [==============================] - 7s 182ms/step - loss: 0.0013\n",
            "Epoch 98/100\n",
            "38/38 [==============================] - 7s 182ms/step - loss: 0.0013\n",
            "Epoch 99/100\n",
            "38/38 [==============================] - 7s 182ms/step - loss: 0.0013\n",
            "Epoch 100/100\n",
            "38/38 [==============================] - 7s 184ms/step - loss: 0.0013\n"
          ],
          "name": "stdout"
        }
      ]
    },
    {
      "cell_type": "markdown",
      "metadata": {
        "id": "mNhrbLzjYsgK"
      },
      "source": [
        "##Test Dataset\n",
        "###Prediction and Visualising the result"
      ]
    },
    {
      "cell_type": "code",
      "metadata": {
        "id": "0Ql4_NLyYqMv"
      },
      "source": [
        "data_test = pd.read_csv('/content/drive/MyDrive/DataSetsML/Google_Stock_Price_Test.csv')"
      ],
      "execution_count": 27,
      "outputs": []
    },
    {
      "cell_type": "code",
      "metadata": {
        "id": "AFbHRhwnZFKb"
      },
      "source": [
        "# Real stock Price\n",
        "real_stock_price = data_test.iloc[:, 1:2].values"
      ],
      "execution_count": 28,
      "outputs": []
    },
    {
      "cell_type": "code",
      "metadata": {
        "colab": {
          "base_uri": "https://localhost:8080/"
        },
        "id": "Ey5q7Fz3ZH7P",
        "outputId": "5f6a81f4-5377-43b7-d0cd-0fc2ddc0f5d1"
      },
      "source": [
        "real_stock_price"
      ],
      "execution_count": 29,
      "outputs": [
        {
          "output_type": "execute_result",
          "data": {
            "text/plain": [
              "array([[778.81],\n",
              "       [788.36],\n",
              "       [786.08],\n",
              "       [795.26],\n",
              "       [806.4 ],\n",
              "       [807.86],\n",
              "       [805.  ],\n",
              "       [807.14],\n",
              "       [807.48],\n",
              "       [807.08],\n",
              "       [805.81],\n",
              "       [805.12],\n",
              "       [806.91],\n",
              "       [807.25],\n",
              "       [822.3 ],\n",
              "       [829.62],\n",
              "       [837.81],\n",
              "       [834.71],\n",
              "       [814.66],\n",
              "       [796.86]])"
            ]
          },
          "metadata": {
            "tags": []
          },
          "execution_count": 29
        }
      ]
    },
    {
      "cell_type": "code",
      "metadata": {
        "id": "fGvHvyQLZJWg"
      },
      "source": [
        "# Predicting Stock Price of Jan 2017\n",
        "data_total = pd.concat((data_train['Open'], data_test['Open']), axis = 0)\n",
        "inputs = data_total[len(data_total) - len(data_test) - 60:].values  # values for making this a numpy array"
      ],
      "execution_count": 30,
      "outputs": []
    },
    {
      "cell_type": "code",
      "metadata": {
        "id": "HWmaVLa2ZPRA"
      },
      "source": [
        "# Reshaping\n",
        "inputs = inputs.reshape(-1,1)"
      ],
      "execution_count": 31,
      "outputs": []
    },
    {
      "cell_type": "code",
      "metadata": {
        "id": "cmjA7HLoZTCd"
      },
      "source": [
        "#Scaling\n",
        "inputs = sc.transform(inputs) \n",
        "# transform must be used instead of fit_transform to apply the same tranformation which occured in the training set "
      ],
      "execution_count": 32,
      "outputs": []
    },
    {
      "cell_type": "code",
      "metadata": {
        "id": "2RkRtvRVZXEq"
      },
      "source": [
        "# Creating Datastructure with 60 timesteps for test data\n",
        "x_test = [inputs[i-60:i, 0] for i in range(60, 80)]    # For 20 Financial days\n",
        "x_test = np.array(x_test)"
      ],
      "execution_count": 33,
      "outputs": []
    },
    {
      "cell_type": "code",
      "metadata": {
        "id": "W85drSTUZa72"
      },
      "source": [
        "# Reshaping\n",
        "x_test = np.reshape(x_test, (x_test.shape[0], x_test.shape[1], 1))"
      ],
      "execution_count": 34,
      "outputs": []
    },
    {
      "cell_type": "markdown",
      "metadata": {
        "id": "G_IpMo__Zdy6"
      },
      "source": [
        "###Prediction of Test Data with Trained RNN"
      ]
    },
    {
      "cell_type": "code",
      "metadata": {
        "id": "8cfE7VdHZfeL"
      },
      "source": [
        "predicted_stock_price = rnn_regressor.predict(x_test)"
      ],
      "execution_count": 35,
      "outputs": []
    },
    {
      "cell_type": "code",
      "metadata": {
        "id": "_yB_HLhbZjXZ"
      },
      "source": [
        "# Inversing the scaled data to original\n",
        "predicted_stock_price = sc.inverse_transform(predicted_stock_price)"
      ],
      "execution_count": 36,
      "outputs": []
    },
    {
      "cell_type": "code",
      "metadata": {
        "colab": {
          "base_uri": "https://localhost:8080/"
        },
        "id": "6d_XzFMkZmPU",
        "outputId": "d7e11b84-99ae-444c-fb48-afbd8301752e"
      },
      "source": [
        "predicted_stock_price"
      ],
      "execution_count": 37,
      "outputs": [
        {
          "output_type": "execute_result",
          "data": {
            "text/plain": [
              "array([[792.68976],\n",
              "       [790.57855],\n",
              "       [790.77844],\n",
              "       [791.39496],\n",
              "       [793.62305],\n",
              "       [797.9017 ],\n",
              "       [801.72235],\n",
              "       [803.39044],\n",
              "       [804.1857 ],\n",
              "       [804.6041 ],\n",
              "       [804.85236],\n",
              "       [804.90546],\n",
              "       [804.9373 ],\n",
              "       [805.4867 ],\n",
              "       [806.2726 ],\n",
              "       [809.97015],\n",
              "       [815.02905],\n",
              "       [820.473  ],\n",
              "       [823.5163 ],\n",
              "       [820.95087]], dtype=float32)"
            ]
          },
          "metadata": {
            "tags": []
          },
          "execution_count": 37
        }
      ]
    },
    {
      "cell_type": "code",
      "metadata": {
        "colab": {
          "base_uri": "https://localhost:8080/",
          "height": 346
        },
        "id": "NboVgDYhZoaR",
        "outputId": "136cc391-2987-45fd-e462-2fefd5c48c0a"
      },
      "source": [
        "plt.figure(figsize=(16, 5))\n",
        "plt.plot(real_stock_price, color = 'blue', label = 'Real Stock Price of JAN 2017')\n",
        "plt.plot(predicted_stock_price, color = 'orange', label = 'Predicted Stock Price of JAN 2017')\n",
        "plt.title('Google Stock Price Prediction')\n",
        "plt.xlabel('Time')\n",
        "plt.ylabel('Stock Price')\n",
        "plt.legend(loc='upper left')\n",
        "plt.show()"
      ],
      "execution_count": 38,
      "outputs": [
        {
          "output_type": "display_data",
          "data": {
            "image/png": "[encoded data removed]",
            "text/plain": [
              "<Figure size 1152x360 with 1 Axes>"
            ]
          },
          "metadata": {
            "tags": [],
            "needs_background": "light"
          }
        }
      ]
    },
    {
      "cell_type": "markdown",
      "metadata": {
        "id": "DgVCH-pxZsD6"
      },
      "source": [
        "###Performance Evaluation"
      ]
    },
    {
      "cell_type": "code",
      "metadata": {
        "colab": {
          "base_uri": "https://localhost:8080/"
        },
        "id": "oPvoNIthZuN7",
        "outputId": "40b14074-e543-42fb-f13b-74acad1b5ea8"
      },
      "source": [
        "rmse = math.sqrt(mean_squared_error(real_stock_price, predicted_stock_price))\n",
        "print('Root Mean Squared Error of our RNN model: {}'.format(rmse))"
      ],
      "execution_count": 39,
      "outputs": [
        {
          "output_type": "stream",
          "text": [
            "Root Mean Squared Error of our RNN model: 11.336251687322001\n"
          ],
          "name": "stdout"
        }
      ]
    }
  ]
}