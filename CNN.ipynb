{
  "nbformat": 4,
  "nbformat_minor": 0,
  "metadata": {
    "colab": {
      "name": "CNN.ipynb",
      "provenance": [],
      "collapsed_sections": [],
      "authorship_tag": "ABX9TyOzt35crJzQvjMdZ/l0eb0S",
      "include_colab_link": true
    },
    "kernelspec": {
      "name": "python3",
      "display_name": "Python 3"
    },
    "language_info": {
      "name": "python"
    }
  },
  "cells": [
    {
      "cell_type": "markdown",
      "metadata": {
        "id": "view-in-github",
        "colab_type": "text"
      },
      "source": [
        "<a href=\"https://colab.research.google.com/github/18wh1a1240/ML-Assignments-WISE/blob/main/CNN.ipynb\" target=\"_parent\"><img src=\"https://colab.research.google.com/assets/colab-badge.svg\" alt=\"Open In Colab\"/></a>"
      ]
    },
    {
      "cell_type": "code",
      "metadata": {
        "id": "SqR70gkeP6LN"
      },
      "source": [
        "# Importing the Keras libraries and packages\n",
        "import os\n",
        "import numpy as np\n",
        "from keras.models import Sequential\n",
        "from keras.layers import Conv2D\n",
        "from keras.layers import MaxPooling2D\n",
        "from keras.layers import Flatten\n",
        "from keras.layers import Dense\n",
        "from keras.layers import Dropout\n",
        "from keras.preprocessing.image import ImageDataGenerator"
      ],
      "execution_count": 18,
      "outputs": []
    },
    {
      "cell_type": "code",
      "metadata": {
        "colab": {
          "base_uri": "https://localhost:8080/"
        },
        "id": "Bms7mP2jh5-N",
        "outputId": "d952424f-4a29-4883-b586-3a58fb5aaaf3"
      },
      "source": [
        "!unzip \"/content/drive/MyDrive/cats_and_dogs_filtered.zip\" -d \"/content\""
      ],
      "execution_count": 19,
      "outputs": [
        {
          "output_type": "stream",
          "text": [
            "Archive:  /content/drive/MyDrive/cats_and_dogs_filtered.zip\n",
            "replace /content/cats_and_dogs_filtered/cats_and_dogs_filtered/train/cats/cat.0.jpg? [y]es, [n]o, [A]ll, [N]one, [r]ename: "
          ],
          "name": "stdout"
        }
      ]
    },
    {
      "cell_type": "code",
      "metadata": {
        "id": "EmK6dBHViIwK"
      },
      "source": [
        "base_dir = os.path.join(os.getcwd(), '/content/cats_and_dogs_filtered')\n",
        "train_dir = os.path.join(base_dir, 'train')\n",
        "validation_dir = os.path.join(base_dir, 'validation')"
      ],
      "execution_count": 21,
      "outputs": []
    },
    {
      "cell_type": "code",
      "metadata": {
        "id": "qPyDD61dijY9"
      },
      "source": [
        "train_cats_dir = os.path.join(train_dir, 'cats')  # directory with our training cat pictures\n",
        "train_dogs_dir = os.path.join(train_dir, 'dogs')  # directory with our training dog pictures\n",
        "validation_cats_dir = os.path.join(validation_dir, 'cats')  # directory with our validation cat pictures\n",
        "validation_dogs_dir = os.path.join(validation_dir, 'dogs')  # directory with our validation dog pictures"
      ],
      "execution_count": null,
      "outputs": []
    },
    {
      "cell_type": "code",
      "metadata": {
        "id": "PiabXp55indk"
      },
      "source": [
        "num_cats_tr = len(os.listdir(train_cats_dir))\n",
        "num_dogs_tr = len(os.listdir(train_dogs_dir))\n",
        "\n",
        "num_cats_val = len(os.listdir(validation_cats_dir))\n",
        "num_dogs_val = len(os.listdir(validation_dogs_dir))\n",
        "\n",
        "total_train = num_cats_tr + num_dogs_tr\n",
        "total_val = num_cats_val + num_dogs_val"
      ],
      "execution_count": null,
      "outputs": []
    },
    {
      "cell_type": "markdown",
      "metadata": {
        "id": "jG3k6Oo5isFs"
      },
      "source": [
        "##Setting Model Parameters"
      ]
    },
    {
      "cell_type": "code",
      "metadata": {
        "id": "wNs9z5xVivWZ"
      },
      "source": [
        "BATCH_SIZE = 100  # Number of training examples to process before updating our models variables\n",
        "IMG_SHAPE  = 150  # Our training data consists of images with width of 150 pixels and height of 150 pixels"
      ],
      "execution_count": null,
      "outputs": []
    },
    {
      "cell_type": "markdown",
      "metadata": {
        "id": "xIdWFixAizu9"
      },
      "source": [
        "##Model Creation"
      ]
    },
    {
      "cell_type": "code",
      "metadata": {
        "id": "xgw0YGGeizJo"
      },
      "source": [
        "# Initialising the CNN\n",
        "classifier = Sequential()"
      ],
      "execution_count": 22,
      "outputs": []
    },
    {
      "cell_type": "code",
      "metadata": {
        "id": "mdhqf3Y6i_h0"
      },
      "source": [
        "# Step 1 - Convolution\n",
        "classifier.add(Conv2D(32, (3, 3), input_shape = (150, 150, 3), activation = 'relu'))"
      ],
      "execution_count": 23,
      "outputs": []
    },
    {
      "cell_type": "code",
      "metadata": {
        "id": "pjiac1WcjNbg"
      },
      "source": [
        "# Step 2 - Pooling\n",
        "classifier.add(MaxPooling2D(2, 2))"
      ],
      "execution_count": 24,
      "outputs": []
    },
    {
      "cell_type": "code",
      "metadata": {
        "id": "qo9gZJVOjVOZ"
      },
      "source": [
        "# Step 1 & 2 with more hidden layers\n",
        "classifier.add(Conv2D(64, (3, 3), activation = 'relu'))\n",
        "classifier.add(MaxPooling2D(2,2))\n",
        "\n",
        "classifier.add(Conv2D(128, (3,3), activation='relu'))\n",
        "classifier.add(MaxPooling2D(2,2))\n",
        "\n",
        "classifier.add(Conv2D(128, (3,3), activation='relu'))\n",
        "classifier.add(MaxPooling2D(2,2))"
      ],
      "execution_count": 25,
      "outputs": []
    },
    {
      "cell_type": "code",
      "metadata": {
        "id": "_gipWOzWjarC"
      },
      "source": [
        "# Step 3 - Dropout\n",
        "classifier.add(Dropout(0.5))"
      ],
      "execution_count": 26,
      "outputs": []
    },
    {
      "cell_type": "code",
      "metadata": {
        "id": "1CmEzEJFkSuC"
      },
      "source": [
        "#Adding a second convolutional layer classifier.add(Conv2D(32, (3, 3), activation = 'relu')) classifier.add(MaxPooling2D(pool_size = (2, 2)))\n",
        "# Step 4 - Flattening\n",
        "classifier.add(Flatten())"
      ],
      "execution_count": 27,
      "outputs": []
    },
    {
      "cell_type": "code",
      "metadata": {
        "id": "2UEHntc6kcKl"
      },
      "source": [
        "# Step 5 - Full connection\n",
        "classifier.add(Dense(units = 512, activation = 'relu'))\n",
        "classifier.add(Dense(units = 2, activation = 'softmax'))"
      ],
      "execution_count": 28,
      "outputs": []
    },
    {
      "cell_type": "code",
      "metadata": {
        "id": "ch2i8kBbkek5"
      },
      "source": [
        "# Compiling the CNN\n",
        "classifier.compile(optimizer = 'adam', loss = 'sparse_categorical_crossentropy', metrics = ['accuracy'])"
      ],
      "execution_count": 29,
      "outputs": []
    },
    {
      "cell_type": "code",
      "metadata": {
        "colab": {
          "base_uri": "https://localhost:8080/"
        },
        "id": "iMDr3Fszkg4A",
        "outputId": "db42c9db-d347-41bd-c43b-5e426d3f74be"
      },
      "source": [
        "classifier.summary()"
      ],
      "execution_count": 30,
      "outputs": [
        {
          "output_type": "stream",
          "text": [
            "Model: \"sequential_1\"\n",
            "_________________________________________________________________\n",
            "Layer (type)                 Output Shape              Param #   \n",
            "=================================================================\n",
            "conv2d_4 (Conv2D)            (None, 148, 148, 32)      896       \n",
            "_________________________________________________________________\n",
            "max_pooling2d_4 (MaxPooling2 (None, 74, 74, 32)        0         \n",
            "_________________________________________________________________\n",
            "conv2d_5 (Conv2D)            (None, 72, 72, 64)        18496     \n",
            "_________________________________________________________________\n",
            "max_pooling2d_5 (MaxPooling2 (None, 36, 36, 64)        0         \n",
            "_________________________________________________________________\n",
            "conv2d_6 (Conv2D)            (None, 34, 34, 128)       73856     \n",
            "_________________________________________________________________\n",
            "max_pooling2d_6 (MaxPooling2 (None, 17, 17, 128)       0         \n",
            "_________________________________________________________________\n",
            "conv2d_7 (Conv2D)            (None, 15, 15, 128)       147584    \n",
            "_________________________________________________________________\n",
            "max_pooling2d_7 (MaxPooling2 (None, 7, 7, 128)         0         \n",
            "_________________________________________________________________\n",
            "dropout (Dropout)            (None, 7, 7, 128)         0         \n",
            "_________________________________________________________________\n",
            "flatten (Flatten)            (None, 6272)              0         \n",
            "_________________________________________________________________\n",
            "dense (Dense)                (None, 512)               3211776   \n",
            "_________________________________________________________________\n",
            "dense_1 (Dense)              (None, 2)                 1026      \n",
            "=================================================================\n",
            "Total params: 3,453,634\n",
            "Trainable params: 3,453,634\n",
            "Non-trainable params: 0\n",
            "_________________________________________________________________\n"
          ],
          "name": "stdout"
        }
      ]
    },
    {
      "cell_type": "markdown",
      "metadata": {
        "id": "nRXT1-KzkkHj"
      },
      "source": [
        "##Data Augumentation and Preparation"
      ]
    },
    {
      "cell_type": "code",
      "metadata": {
        "id": "pAEVsXKRknhg"
      },
      "source": [
        "train_datagen = ImageDataGenerator(rescale=1./255,\n",
        "                                   rotation_range=40,\n",
        "                                   width_shift_range=0.2,\n",
        "                                   height_shift_range=0.2,\n",
        "                                   shear_range=0.2,\n",
        "                                   zoom_range=0.2,\n",
        "                                   horizontal_flip=True,\n",
        "                                   fill_mode='nearest')"
      ],
      "execution_count": 31,
      "outputs": []
    },
    {
      "cell_type": "code",
      "metadata": {
        "colab": {
          "base_uri": "https://localhost:8080/"
        },
        "id": "BJkLdiE1lfbD",
        "outputId": "e40cfcf4-eb2a-425b-a922-e2681b38463c"
      },
      "source": [
        "training_set = train_datagen.flow_from_directory(batch_size=BATCH_SIZE,\n",
        "                                                 directory=train_dir,\n",
        "                                                 shuffle=True,\n",
        "                                                 target_size=(IMG_SHAPE,IMG_SHAPE),\n",
        "                                                 class_mode='binary')"
      ],
      "execution_count": 32,
      "outputs": [
        {
          "output_type": "stream",
          "text": [
            "Found 2000 images belonging to 2 classes.\n"
          ],
          "name": "stdout"
        }
      ]
    },
    {
      "cell_type": "code",
      "metadata": {
        "id": "_cmFIPv2lj0O"
      },
      "source": [
        "validation_datagen = ImageDataGenerator(rescale = 1./255)"
      ],
      "execution_count": 33,
      "outputs": []
    },
    {
      "cell_type": "code",
      "metadata": {
        "colab": {
          "base_uri": "https://localhost:8080/"
        },
        "id": "aHf2yT5_mCbL",
        "outputId": "fb40ecc4-a4b6-4fe5-c4cb-3a9683012b78"
      },
      "source": [
        "validation_set = validation_datagen.flow_from_directory(batch_size=BATCH_SIZE,\n",
        "                                                        directory=validation_dir,\n",
        "                                                        target_size=(IMG_SHAPE, IMG_SHAPE),\n",
        "                                                        class_mode='binary')"
      ],
      "execution_count": 34,
      "outputs": [
        {
          "output_type": "stream",
          "text": [
            "Found 1000 images belonging to 2 classes.\n"
          ],
          "name": "stdout"
        }
      ]
    },
    {
      "cell_type": "markdown",
      "metadata": {
        "id": "LgXm29ncmFKD"
      },
      "source": [
        "##Train Model"
      ]
    },
    {
      "cell_type": "code",
      "metadata": {
        "colab": {
          "base_uri": "https://localhost:8080/"
        },
        "id": "vjni9aA5mGvd",
        "outputId": "bdb656ca-323d-4dc6-a75c-ec6690e4db64"
      },
      "source": [
        "epochs=100\n",
        "history = classifier.fit_generator(\n",
        "    training_set,\n",
        "    steps_per_epoch=int(np.ceil(total_train / float(BATCH_SIZE))),\n",
        "    epochs=epochs,\n",
        "    validation_data=validation_set,\n",
        "    validation_steps=int(np.ceil(total_val / float(BATCH_SIZE)))\n",
        ")"
      ],
      "execution_count": 35,
      "outputs": [
        {
          "output_type": "stream",
          "text": [
            "/usr/local/lib/python3.7/dist-packages/tensorflow/python/keras/engine/training.py:1844: UserWarning: `Model.fit_generator` is deprecated and will be removed in a future version. Please use `Model.fit`, which supports generators.\n",
            "  warnings.warn('`Model.fit_generator` is deprecated and '\n"
          ],
          "name": "stderr"
        },
        {
          "output_type": "stream",
          "text": [
            "Epoch 1/100\n",
            "20/20 [==============================] - 112s 6s/step - loss: 0.8384 - accuracy: 0.5193 - val_loss: 0.6910 - val_accuracy: 0.5900\n",
            "Epoch 2/100\n",
            "20/20 [==============================] - 110s 5s/step - loss: 0.6937 - accuracy: 0.5140 - val_loss: 0.6924 - val_accuracy: 0.5640\n",
            "Epoch 3/100\n",
            "20/20 [==============================] - 108s 5s/step - loss: 0.6921 - accuracy: 0.5108 - val_loss: 0.6900 - val_accuracy: 0.5270\n",
            "Epoch 4/100\n",
            "20/20 [==============================] - 108s 5s/step - loss: 0.6913 - accuracy: 0.5056 - val_loss: 0.6846 - val_accuracy: 0.5060\n",
            "Epoch 5/100\n",
            "20/20 [==============================] - 108s 5s/step - loss: 0.6863 - accuracy: 0.5338 - val_loss: 0.6497 - val_accuracy: 0.6140\n",
            "Epoch 6/100\n",
            "20/20 [==============================] - 109s 5s/step - loss: 0.6843 - accuracy: 0.5449 - val_loss: 0.6865 - val_accuracy: 0.5730\n",
            "Epoch 7/100\n",
            "20/20 [==============================] - 109s 5s/step - loss: 0.6923 - accuracy: 0.5537 - val_loss: 0.6819 - val_accuracy: 0.5440\n",
            "Epoch 8/100\n",
            "20/20 [==============================] - 109s 5s/step - loss: 0.6811 - accuracy: 0.5591 - val_loss: 0.6758 - val_accuracy: 0.5430\n",
            "Epoch 9/100\n",
            "20/20 [==============================] - 108s 5s/step - loss: 0.6812 - accuracy: 0.5663 - val_loss: 0.6862 - val_accuracy: 0.5400\n",
            "Epoch 10/100\n",
            "20/20 [==============================] - 109s 5s/step - loss: 0.6734 - accuracy: 0.5655 - val_loss: 0.6800 - val_accuracy: 0.5360\n",
            "Epoch 11/100\n",
            "20/20 [==============================] - 109s 5s/step - loss: 0.6771 - accuracy: 0.5687 - val_loss: 0.6325 - val_accuracy: 0.6310\n",
            "Epoch 12/100\n",
            "20/20 [==============================] - 109s 5s/step - loss: 0.6624 - accuracy: 0.6049 - val_loss: 0.6339 - val_accuracy: 0.6300\n",
            "Epoch 13/100\n",
            "20/20 [==============================] - 110s 5s/step - loss: 0.6565 - accuracy: 0.6162 - val_loss: 0.6325 - val_accuracy: 0.6480\n",
            "Epoch 14/100\n",
            "20/20 [==============================] - 109s 5s/step - loss: 0.6430 - accuracy: 0.6215 - val_loss: 0.6363 - val_accuracy: 0.6160\n",
            "Epoch 15/100\n",
            "20/20 [==============================] - 109s 5s/step - loss: 0.6447 - accuracy: 0.6367 - val_loss: 0.6338 - val_accuracy: 0.6380\n",
            "Epoch 16/100\n",
            "20/20 [==============================] - 108s 5s/step - loss: 0.6399 - accuracy: 0.6341 - val_loss: 0.6341 - val_accuracy: 0.6230\n",
            "Epoch 17/100\n",
            "20/20 [==============================] - 109s 5s/step - loss: 0.6008 - accuracy: 0.6609 - val_loss: 0.5882 - val_accuracy: 0.6880\n",
            "Epoch 18/100\n",
            "20/20 [==============================] - 109s 5s/step - loss: 0.5939 - accuracy: 0.6770 - val_loss: 0.5695 - val_accuracy: 0.6930\n",
            "Epoch 19/100\n",
            "20/20 [==============================] - 110s 5s/step - loss: 0.6108 - accuracy: 0.6631 - val_loss: 0.5901 - val_accuracy: 0.6880\n",
            "Epoch 20/100\n",
            "20/20 [==============================] - 108s 5s/step - loss: 0.6041 - accuracy: 0.6824 - val_loss: 0.5747 - val_accuracy: 0.6890\n",
            "Epoch 21/100\n",
            "20/20 [==============================] - 108s 5s/step - loss: 0.5901 - accuracy: 0.6827 - val_loss: 0.5996 - val_accuracy: 0.6710\n",
            "Epoch 22/100\n",
            "20/20 [==============================] - 108s 5s/step - loss: 0.5923 - accuracy: 0.6851 - val_loss: 0.5660 - val_accuracy: 0.7080\n",
            "Epoch 23/100\n",
            "20/20 [==============================] - 109s 5s/step - loss: 0.5601 - accuracy: 0.7069 - val_loss: 0.5637 - val_accuracy: 0.7050\n",
            "Epoch 24/100\n",
            "20/20 [==============================] - 109s 5s/step - loss: 0.5936 - accuracy: 0.6983 - val_loss: 0.5494 - val_accuracy: 0.7070\n",
            "Epoch 25/100\n",
            "20/20 [==============================] - 116s 6s/step - loss: 0.5623 - accuracy: 0.7120 - val_loss: 0.5431 - val_accuracy: 0.7230\n",
            "Epoch 26/100\n",
            "20/20 [==============================] - 110s 6s/step - loss: 0.5735 - accuracy: 0.6926 - val_loss: 0.5386 - val_accuracy: 0.7190\n",
            "Epoch 27/100\n",
            "20/20 [==============================] - 110s 5s/step - loss: 0.5677 - accuracy: 0.7008 - val_loss: 0.5620 - val_accuracy: 0.7130\n",
            "Epoch 28/100\n",
            "20/20 [==============================] - 109s 5s/step - loss: 0.5448 - accuracy: 0.7090 - val_loss: 0.5321 - val_accuracy: 0.7190\n",
            "Epoch 29/100\n",
            "20/20 [==============================] - 111s 6s/step - loss: 0.5334 - accuracy: 0.7260 - val_loss: 0.5277 - val_accuracy: 0.7250\n",
            "Epoch 30/100\n",
            "20/20 [==============================] - 111s 6s/step - loss: 0.5694 - accuracy: 0.7081 - val_loss: 0.5373 - val_accuracy: 0.7210\n",
            "Epoch 31/100\n",
            "20/20 [==============================] - 111s 6s/step - loss: 0.5525 - accuracy: 0.7247 - val_loss: 0.5198 - val_accuracy: 0.7270\n",
            "Epoch 32/100\n",
            "20/20 [==============================] - 111s 6s/step - loss: 0.5340 - accuracy: 0.7327 - val_loss: 0.5583 - val_accuracy: 0.7060\n",
            "Epoch 33/100\n",
            "20/20 [==============================] - 109s 5s/step - loss: 0.5349 - accuracy: 0.7206 - val_loss: 0.5523 - val_accuracy: 0.7070\n",
            "Epoch 34/100\n",
            "20/20 [==============================] - 111s 6s/step - loss: 0.5553 - accuracy: 0.7190 - val_loss: 0.5174 - val_accuracy: 0.7250\n",
            "Epoch 35/100\n",
            "20/20 [==============================] - 111s 6s/step - loss: 0.5325 - accuracy: 0.7414 - val_loss: 0.5174 - val_accuracy: 0.7460\n",
            "Epoch 36/100\n",
            "20/20 [==============================] - 110s 6s/step - loss: 0.5244 - accuracy: 0.7453 - val_loss: 0.5195 - val_accuracy: 0.7440\n",
            "Epoch 37/100\n",
            "20/20 [==============================] - 109s 5s/step - loss: 0.5056 - accuracy: 0.7461 - val_loss: 0.5004 - val_accuracy: 0.7520\n",
            "Epoch 38/100\n",
            "20/20 [==============================] - 109s 5s/step - loss: 0.5190 - accuracy: 0.7450 - val_loss: 0.5060 - val_accuracy: 0.7630\n",
            "Epoch 39/100\n",
            "20/20 [==============================] - 108s 5s/step - loss: 0.5156 - accuracy: 0.7616 - val_loss: 0.5398 - val_accuracy: 0.7230\n",
            "Epoch 40/100\n",
            "20/20 [==============================] - 109s 5s/step - loss: 0.5070 - accuracy: 0.7492 - val_loss: 0.4851 - val_accuracy: 0.7620\n",
            "Epoch 41/100\n",
            "20/20 [==============================] - 109s 5s/step - loss: 0.5082 - accuracy: 0.7487 - val_loss: 0.4948 - val_accuracy: 0.7640\n",
            "Epoch 42/100\n",
            "20/20 [==============================] - 109s 5s/step - loss: 0.4859 - accuracy: 0.7735 - val_loss: 0.5380 - val_accuracy: 0.7270\n",
            "Epoch 43/100\n",
            "20/20 [==============================] - 109s 5s/step - loss: 0.4924 - accuracy: 0.7594 - val_loss: 0.4877 - val_accuracy: 0.7630\n",
            "Epoch 44/100\n",
            "20/20 [==============================] - 109s 5s/step - loss: 0.4938 - accuracy: 0.7654 - val_loss: 0.4632 - val_accuracy: 0.7800\n",
            "Epoch 45/100\n",
            "20/20 [==============================] - 109s 5s/step - loss: 0.4792 - accuracy: 0.7754 - val_loss: 0.5235 - val_accuracy: 0.7280\n",
            "Epoch 46/100\n",
            "20/20 [==============================] - 109s 5s/step - loss: 0.5152 - accuracy: 0.7315 - val_loss: 0.4913 - val_accuracy: 0.7630\n",
            "Epoch 47/100\n",
            "20/20 [==============================] - 109s 5s/step - loss: 0.4896 - accuracy: 0.7624 - val_loss: 0.4862 - val_accuracy: 0.7610\n",
            "Epoch 48/100\n",
            "20/20 [==============================] - 109s 5s/step - loss: 0.4661 - accuracy: 0.7815 - val_loss: 0.5193 - val_accuracy: 0.7490\n",
            "Epoch 49/100\n",
            "20/20 [==============================] - 109s 5s/step - loss: 0.4737 - accuracy: 0.7654 - val_loss: 0.4726 - val_accuracy: 0.7720\n",
            "Epoch 50/100\n",
            "20/20 [==============================] - 109s 5s/step - loss: 0.4715 - accuracy: 0.7802 - val_loss: 0.4713 - val_accuracy: 0.7710\n",
            "Epoch 51/100\n",
            "20/20 [==============================] - 109s 5s/step - loss: 0.4505 - accuracy: 0.7938 - val_loss: 0.4530 - val_accuracy: 0.7830\n",
            "Epoch 52/100\n",
            "20/20 [==============================] - 109s 5s/step - loss: 0.4773 - accuracy: 0.7631 - val_loss: 0.4702 - val_accuracy: 0.7780\n",
            "Epoch 53/100\n",
            "20/20 [==============================] - 109s 5s/step - loss: 0.4600 - accuracy: 0.7859 - val_loss: 0.4664 - val_accuracy: 0.7920\n",
            "Epoch 54/100\n",
            "20/20 [==============================] - 109s 5s/step - loss: 0.4547 - accuracy: 0.7902 - val_loss: 0.4513 - val_accuracy: 0.7830\n",
            "Epoch 55/100\n",
            "20/20 [==============================] - 110s 6s/step - loss: 0.4442 - accuracy: 0.7885 - val_loss: 0.4624 - val_accuracy: 0.7810\n",
            "Epoch 56/100\n",
            "20/20 [==============================] - 111s 6s/step - loss: 0.4500 - accuracy: 0.7858 - val_loss: 0.4636 - val_accuracy: 0.7790\n",
            "Epoch 57/100\n",
            "20/20 [==============================] - 111s 6s/step - loss: 0.4359 - accuracy: 0.8027 - val_loss: 0.4348 - val_accuracy: 0.7980\n",
            "Epoch 58/100\n",
            "20/20 [==============================] - 111s 6s/step - loss: 0.4377 - accuracy: 0.7872 - val_loss: 0.4454 - val_accuracy: 0.7930\n",
            "Epoch 59/100\n",
            "20/20 [==============================] - 111s 6s/step - loss: 0.4278 - accuracy: 0.8009 - val_loss: 0.4558 - val_accuracy: 0.7890\n",
            "Epoch 60/100\n",
            "20/20 [==============================] - 110s 5s/step - loss: 0.4266 - accuracy: 0.8034 - val_loss: 0.4177 - val_accuracy: 0.8060\n",
            "Epoch 61/100\n",
            "20/20 [==============================] - 109s 5s/step - loss: 0.4300 - accuracy: 0.8150 - val_loss: 0.4662 - val_accuracy: 0.7810\n",
            "Epoch 62/100\n",
            "20/20 [==============================] - 111s 6s/step - loss: 0.4697 - accuracy: 0.7778 - val_loss: 0.4914 - val_accuracy: 0.7600\n",
            "Epoch 63/100\n",
            "20/20 [==============================] - 111s 6s/step - loss: 0.4307 - accuracy: 0.8046 - val_loss: 0.4258 - val_accuracy: 0.8050\n",
            "Epoch 64/100\n",
            "20/20 [==============================] - 111s 6s/step - loss: 0.3993 - accuracy: 0.8164 - val_loss: 0.4344 - val_accuracy: 0.8000\n",
            "Epoch 65/100\n",
            "20/20 [==============================] - 111s 6s/step - loss: 0.4069 - accuracy: 0.8255 - val_loss: 0.4747 - val_accuracy: 0.7710\n",
            "Epoch 66/100\n",
            "20/20 [==============================] - 109s 5s/step - loss: 0.4651 - accuracy: 0.7883 - val_loss: 0.4194 - val_accuracy: 0.7900\n",
            "Epoch 67/100\n",
            "20/20 [==============================] - 110s 6s/step - loss: 0.4034 - accuracy: 0.8271 - val_loss: 0.4075 - val_accuracy: 0.8160\n",
            "Epoch 68/100\n",
            "20/20 [==============================] - 111s 6s/step - loss: 0.4054 - accuracy: 0.8087 - val_loss: 0.4351 - val_accuracy: 0.8020\n",
            "Epoch 69/100\n",
            "20/20 [==============================] - 116s 6s/step - loss: 0.4014 - accuracy: 0.8193 - val_loss: 0.4197 - val_accuracy: 0.8060\n",
            "Epoch 70/100\n",
            "20/20 [==============================] - 110s 5s/step - loss: 0.4121 - accuracy: 0.8117 - val_loss: 0.4907 - val_accuracy: 0.7660\n",
            "Epoch 71/100\n",
            "20/20 [==============================] - 110s 5s/step - loss: 0.4176 - accuracy: 0.8191 - val_loss: 0.4116 - val_accuracy: 0.8050\n",
            "Epoch 72/100\n",
            "20/20 [==============================] - 109s 5s/step - loss: 0.3747 - accuracy: 0.8371 - val_loss: 0.4319 - val_accuracy: 0.7990\n",
            "Epoch 73/100\n",
            "20/20 [==============================] - 110s 6s/step - loss: 0.3896 - accuracy: 0.8280 - val_loss: 0.4109 - val_accuracy: 0.8060\n",
            "Epoch 74/100\n",
            "20/20 [==============================] - 110s 5s/step - loss: 0.3688 - accuracy: 0.8385 - val_loss: 0.4446 - val_accuracy: 0.7950\n",
            "Epoch 75/100\n",
            "20/20 [==============================] - 110s 5s/step - loss: 0.3969 - accuracy: 0.8311 - val_loss: 0.4299 - val_accuracy: 0.8040\n",
            "Epoch 76/100\n",
            "20/20 [==============================] - 112s 6s/step - loss: 0.3648 - accuracy: 0.8241 - val_loss: 0.4529 - val_accuracy: 0.7820\n",
            "Epoch 77/100\n",
            "20/20 [==============================] - 110s 5s/step - loss: 0.3641 - accuracy: 0.8408 - val_loss: 0.4100 - val_accuracy: 0.8030\n",
            "Epoch 78/100\n",
            "20/20 [==============================] - 109s 5s/step - loss: 0.3659 - accuracy: 0.8410 - val_loss: 0.4303 - val_accuracy: 0.7880\n",
            "Epoch 79/100\n",
            "20/20 [==============================] - 110s 5s/step - loss: 0.3835 - accuracy: 0.8362 - val_loss: 0.4081 - val_accuracy: 0.8150\n",
            "Epoch 80/100\n",
            "20/20 [==============================] - 110s 5s/step - loss: 0.3671 - accuracy: 0.8373 - val_loss: 0.3918 - val_accuracy: 0.8110\n",
            "Epoch 81/100\n",
            "20/20 [==============================] - 110s 5s/step - loss: 0.3611 - accuracy: 0.8406 - val_loss: 0.4124 - val_accuracy: 0.8190\n",
            "Epoch 82/100\n",
            "20/20 [==============================] - 110s 6s/step - loss: 0.3675 - accuracy: 0.8394 - val_loss: 0.4045 - val_accuracy: 0.8170\n",
            "Epoch 83/100\n",
            "20/20 [==============================] - 110s 5s/step - loss: 0.3524 - accuracy: 0.8249 - val_loss: 0.4177 - val_accuracy: 0.8140\n",
            "Epoch 84/100\n",
            "20/20 [==============================] - 110s 5s/step - loss: 0.3770 - accuracy: 0.8354 - val_loss: 0.4186 - val_accuracy: 0.8050\n",
            "Epoch 85/100\n",
            "20/20 [==============================] - 111s 6s/step - loss: 0.3608 - accuracy: 0.8385 - val_loss: 0.3865 - val_accuracy: 0.8290\n",
            "Epoch 86/100\n",
            "20/20 [==============================] - 110s 5s/step - loss: 0.3559 - accuracy: 0.8503 - val_loss: 0.4352 - val_accuracy: 0.7990\n",
            "Epoch 87/100\n",
            "20/20 [==============================] - 110s 5s/step - loss: 0.3235 - accuracy: 0.8509 - val_loss: 0.4232 - val_accuracy: 0.8110\n",
            "Epoch 88/100\n",
            "20/20 [==============================] - 110s 6s/step - loss: 0.3416 - accuracy: 0.8368 - val_loss: 0.4001 - val_accuracy: 0.8090\n",
            "Epoch 89/100\n",
            "20/20 [==============================] - 111s 6s/step - loss: 0.3457 - accuracy: 0.8422 - val_loss: 0.3870 - val_accuracy: 0.8190\n",
            "Epoch 90/100\n",
            "20/20 [==============================] - 111s 6s/step - loss: 0.3361 - accuracy: 0.8464 - val_loss: 0.3914 - val_accuracy: 0.8180\n",
            "Epoch 91/100\n",
            "20/20 [==============================] - 111s 6s/step - loss: 0.3640 - accuracy: 0.8381 - val_loss: 0.3913 - val_accuracy: 0.8210\n",
            "Epoch 92/100\n",
            "20/20 [==============================] - 111s 6s/step - loss: 0.3643 - accuracy: 0.8498 - val_loss: 0.4260 - val_accuracy: 0.8100\n",
            "Epoch 93/100\n",
            "20/20 [==============================] - 111s 6s/step - loss: 0.3810 - accuracy: 0.8312 - val_loss: 0.3740 - val_accuracy: 0.8380\n",
            "Epoch 94/100\n",
            "20/20 [==============================] - 111s 6s/step - loss: 0.3215 - accuracy: 0.8566 - val_loss: 0.4055 - val_accuracy: 0.8240\n",
            "Epoch 95/100\n",
            "20/20 [==============================] - 112s 6s/step - loss: 0.3172 - accuracy: 0.8747 - val_loss: 0.3862 - val_accuracy: 0.8190\n",
            "Epoch 96/100\n",
            "20/20 [==============================] - 114s 6s/step - loss: 0.3285 - accuracy: 0.8546 - val_loss: 0.3910 - val_accuracy: 0.8200\n",
            "Epoch 97/100\n",
            "20/20 [==============================] - 113s 6s/step - loss: 0.3352 - accuracy: 0.8534 - val_loss: 0.3759 - val_accuracy: 0.8350\n",
            "Epoch 98/100\n",
            "20/20 [==============================] - 113s 6s/step - loss: 0.3521 - accuracy: 0.8441 - val_loss: 0.3631 - val_accuracy: 0.8340\n",
            "Epoch 99/100\n",
            "20/20 [==============================] - 111s 6s/step - loss: 0.3204 - accuracy: 0.8512 - val_loss: 0.3744 - val_accuracy: 0.8300\n",
            "Epoch 100/100\n",
            "20/20 [==============================] - 111s 6s/step - loss: 0.3461 - accuracy: 0.8376 - val_loss: 0.3881 - val_accuracy: 0.8200\n"
          ],
          "name": "stdout"
        }
      ]
    },
    {
      "cell_type": "markdown",
      "metadata": {
        "id": "Z7dMn2F20qXv"
      },
      "source": [
        "##Training Visualization"
      ]
    },
    {
      "cell_type": "code",
      "metadata": {
        "id": "BUy0Xj6_RER3"
      },
      "source": [
        "acc = history.history['acc']\n",
        "val_acc = history.history['val_acc']\n",
        "\n",
        "loss = history.history['loss']\n",
        "val_loss = history.history['val_loss']\n",
        "\n",
        "epochs_range = range(epochs)\n",
        "\n",
        "plt.figure(figsize=(8, 8))\n",
        "plt.subplot(1, 2, 1)\n",
        "plt.plot(epochs_range, acc, label='Training Accuracy')\n",
        "plt.plot(epochs_range, val_acc, label='Validation Accuracy')\n",
        "plt.legend(loc='lower right')\n",
        "plt.title('Training and Validation Accuracy')\n",
        "\n",
        "plt.subplot(1, 2, 2)\n",
        "plt.plot(epochs_range, loss, label='Training Loss')\n",
        "plt.plot(epochs_range, val_loss, label='Validation Loss')\n",
        "plt.legend(loc='upper right')\n",
        "plt.title('Training and Validation Loss')\n",
        "plt.show()"
      ],
      "execution_count": null,
      "outputs": []
    }
  ]
}